{
 "cells": [
  {
   "cell_type": "code",
   "execution_count": 1,
   "metadata": {},
   "outputs": [],
   "source": [
    "import cairo\n",
    "from IPython.display import Image, display\n",
    "from math import pi\n",
    "from io import BytesIO\n",
    "\n",
    "def disp(draw_func):\n",
    "    surface = cairo.ImageSurface(cairo.FORMAT_ARGB32, 200, 200)\n",
    "    ctx = cairo.Context(surface)\n",
    "    draw_func(ctx, 200, 200)\n",
    "    with BytesIO() as fileobj:\n",
    "        surface.write_to_png(fileobj)\n",
    "        display(Image(fileobj.getvalue(), width=200))\n",
    "\n"
   ]
  },
  {
   "cell_type": "code",
   "execution_count": 2,
   "metadata": {},
   "outputs": [
    {
     "data": {
      "image/png": "[encoded data removed]",
      "text/plain": [
       "<IPython.core.display.Image object>"
      ]
     },
     "metadata": {
      "image/png": {
       "width": 200
      }
     },
     "output_type": "display_data"
    }
   ],
   "source": [
    "@disp\n",
    "def draw(cr, width, height):\n",
    "    cr.scale(width, height)\n",
    "    cr.set_line_width(0.04)\n",
    "\n",
    "    # a custom shape, that could be wrapped in a function\n",
    "    x0 = 0.1  # parameters like cairo_rectangle\n",
    "    y0 = 0.1\n",
    "    rect_width = 0.8\n",
    "    rect_height = 0.8\n",
    "    radius = 0.4  # and an approximate curvature radius\n",
    "\n",
    "    x1 = x0 + rect_width\n",
    "    y1 = y0 + rect_height\n",
    "\n",
    "    if rect_width / 2 < radius:\n",
    "        if rect_height / 2 < radius:\n",
    "            cr.move_to(x0, (y0 + y1) / 2)\n",
    "            cr.curve_to(x0, y0, x0, y0, (x0 + x1) / 2, y0)\n",
    "            cr.curve_to(x1, y0, x1, y0, x1, (y0 + y1) / 2)\n",
    "            cr.curve_to(x1, y1, x1, y1, (x1 + x0) / 2, y1)\n",
    "            cr.curve_to(x0, y1, x0, y1, x0, (y0 + y1) / 2)\n",
    "        else:\n",
    "            cr.move_to(x0, y0 + radius)\n",
    "            cr.curve_to(x0, y0, x0, y0, (x0 + x1) / 2, y0)\n",
    "            cr.curve_to(x1, y0, x1, y0, x1, y0 + radius)\n",
    "            cr.line_to(x1, y1 - radius)\n",
    "            cr.curve_to(x1, y1, x1, y1, (x1 + x0) / 2, y1)\n",
    "            cr.curve_to(x0, y1, x0, y1, x0, y1 - radius)\n",
    "    else:\n",
    "        if rect_height / 2 < radius:\n",
    "            cr.move_to(x0, (y0 + y1) / 2)\n",
    "            cr.curve_to(x0, y0, x0, y0, x0 + radius, y0)\n",
    "            cr.line_to(x1 - radius, y0)\n",
    "            cr.curve_to(x1, y0, x1, y0, x1, (y0 + y1) / 2)\n",
    "            cr.curve_to(x1, y1, x1, y1, x1 - radius, y1)\n",
    "            cr.line_to(x0 + radius, y1)\n",
    "            cr.curve_to(x0, y1, x0, y1, x0, (y0 + y1) / 2)\n",
    "        else:\n",
    "            cr.move_to(x0, y0 + radius)\n",
    "            cr.curve_to(x0, y0, x0, y0, x0 + radius, y0)\n",
    "            cr.line_to(x1 - radius, y0)\n",
    "            cr.curve_to(x1, y0, x1, y0, x1, y0 + radius)\n",
    "            cr.line_to(x1, y1 - radius)\n",
    "            cr.curve_to(x1, y1, x1, y1, x1 - radius, y1)\n",
    "            cr.line_to(x0 + radius, y1)\n",
    "            cr.curve_to(x0, y1, x0, y1, x0, y1 - radius)\n",
    "\n",
    "    cr.close_path()\n",
    "\n",
    "    cr.set_source_rgb(0.5, 0.5, 1)\n",
    "    cr.fill_preserve()\n",
    "    cr.set_source_rgba(0.5, 0, 0, 0.5)\n",
    "    cr.stroke()"
   ]
  },
  {
   "cell_type": "code",
   "execution_count": 3,
   "metadata": {},
   "outputs": [
    {
     "data": {
      "image/png": "[encoded data removed]",
      "text/plain": [
       "<IPython.core.display.Image object>"
      ]
     },
     "metadata": {
      "image/png": {
       "width": 200
      }
     },
     "output_type": "display_data"
    }
   ],
   "source": [
    "\n",
    "@disp\n",
    "def draw(cr, width, height):\n",
    "    cr.scale(width, height)\n",
    "    cr.set_line_width(0.04)\n",
    "\n",
    "    cr.select_font_face(\"Sans\", cairo.FONT_SLANT_NORMAL,\n",
    "                        cairo.FONT_WEIGHT_NORMAL)\n",
    "    # draw 0.08 glyphs in 0.10 squares, at(0.01, 0.02) from left corner\n",
    "    cr.set_font_size(0.08)\n",
    "\n",
    "    glyphs = []\n",
    "    index = 0\n",
    "    for y in range(10):\n",
    "        for x in range(10):\n",
    "            glyphs.append((index, x / 10.0 + 0.01, y / 10.0 + 0.08))\n",
    "            index += 1\n",
    "\n",
    "    cr.show_glyphs(glyphs)"
   ]
  },
  {
   "cell_type": "code",
   "execution_count": null,
   "metadata": {},
   "outputs": [],
   "source": []
  },
  {
   "cell_type": "code",
   "execution_count": 9,
   "metadata": {},
   "outputs": [
    {
     "data": {
      "image/png": "[encoded data removed]",
      "text/plain": [
       "<IPython.core.display.Image object>"
      ]
     },
     "metadata": {
      "image/png": {
       "width": 200
      }
     },
     "output_type": "display_data"
    }
   ],
   "source": [
    "@disp\n",
    "def draw(cr, width, height):\n",
    "    cr.scale(width, height)\n",
    "    cr.set_line_width(0.04)\n",
    "\n",
    "    cr.select_font_face(\"Sans\", cairo.FONT_SLANT_NORMAL,\n",
    "                        cairo.FONT_WEIGHT_BOLD)\n",
    "    cr.set_font_size(0.35)\n",
    "\n",
    "    cr.move_to(0.04, 0.53)\n",
    "    cr.show_text(\"Hello\")\n",
    "\n",
    "    cr.move_to(0.04, 0.75)\n",
    "    cr.text_path(\"void\")\n",
    "    cr.set_source_rgb(0.5, 0.5, 1)\n",
    "    cr.fill_preserve()\n",
    "    cr.set_source_rgb(0, 0, 0)\n",
    "    cr.set_line_width(0.01)\n",
    "    cr.stroke()\n",
    "\n",
    "    # draw helping lines\n",
    "    cr.set_source_rgba(1, 0.2, 0.2, 0.6)\n",
    "    cr.fill()"
   ]
  },
  {
   "cell_type": "code",
   "execution_count": 3,
   "metadata": {},
   "outputs": [],
   "source": [
    "import cairo\n",
    "\n",
    "with cairo.ImageSurface(cairo.FORMAT_ARGB32, 200, 200) as surface:\n",
    "    context = cairo.Context(surface)\n",
    "    x, y, x1, y1 = 0.1, 0.5, 0.4, 0.9\n",
    "    x2, y2, x3, y3 = 0.6, 0.1, 0.9, 0.5\n",
    "    context.scale(200, 200)\n",
    "    context.set_line_width(0.04)\n",
    "    context.move_to(x, y)\n",
    "    context.curve_to(x1, y1, x2, y2, x3, y3)\n",
    "    context.stroke()\n",
    "    context.set_source_rgba(1, 0.8, 0.2, 0.6)\n",
    "    context.set_line_width(0.02)\n",
    "    context.move_to(x, y)\n",
    "    context.line_to(x1, y1)\n",
    "    context.move_to(x2, y2)\n",
    "    context.line_to(x3, y3)\n",
    "    context.stroke()\n",
    "\n",
    "    surface.write_to_png(\"output.png\")"
   ]
  },
  {
   "cell_type": "code",
   "execution_count": null,
   "metadata": {},
   "outputs": [],
   "source": []
  }
 ],
 "metadata": {
  "kernelspec": {
   "display_name": "Python 3",
   "language": "python",
   "name": "python3"
  },
  "language_info": {
   "codemirror_mode": {
    "name": "ipython",
    "version": 3
   },
   "file_extension": ".py",
   "mimetype": "text/x-python",
   "name": "python",
   "nbconvert_exporter": "python",
   "pygments_lexer": "ipython3",
   "version": "3.12.0"
  },
  "orig_nbformat": 4
 },
 "nbformat": 4,
 "nbformat_minor": 2
}
